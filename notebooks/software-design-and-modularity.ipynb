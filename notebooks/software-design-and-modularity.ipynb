{
 "cells": [
  {
   "cell_type": "markdown",
   "id": "0bf12a2c-827d-4e19-80e7-e610a0b05102",
   "metadata": {
    "editable": true,
    "slideshow": {
     "slide_type": "slide"
    },
    "tags": []
   },
   "source": [
    "# Software Design and Modularity\n",
    "\n",
    "Eva Maxfield Brown\n",
    "\n",
    "\n",
    "UW Information School"
   ]
  },
  {
   "cell_type": "markdown",
   "id": "75f068c5-0ad9-462b-adea-b5931c17683b",
   "metadata": {
    "editable": true,
    "slideshow": {
     "slide_type": "slide"
    },
    "tags": []
   },
   "source": [
    "## Agenda\n",
    "\n",
    "1. Motivation\n",
    "2. Core Ideas\n",
    "3. Basic Application\n",
    "4. Common Patterns\n",
    "5. Takeaways"
   ]
  },
  {
   "cell_type": "markdown",
   "id": "ef469fed-f514-4aac-b71e-7a0d6da66bbe",
   "metadata": {
    "editable": true,
    "slideshow": {
     "slide_type": "slide"
    },
    "tags": []
   },
   "source": [
    "## Motivation"
   ]
  },
  {
   "cell_type": "markdown",
   "id": "04aa464f-494f-435e-8cad-086d21bfe169",
   "metadata": {
    "editable": true,
    "slideshow": {
     "slide_type": "slide"
    },
    "tags": []
   },
   "source": [
    "### Computers do exactly what you program them to do.<br><br>If you aren’t getting the results you expect, look for a simpler model."
   ]
  },
  {
   "cell_type": "markdown",
   "id": "edcd665d-f209-4626-83cf-bc9cd6177e9b",
   "metadata": {
    "editable": true,
    "slideshow": {
     "slide_type": "slide"
    },
    "tags": []
   },
   "source": [
    "### Three Targets For Simpler Programs\n",
    "\n",
    "1. Make software easier to understand by breaking it into pieces that can be understood separately"
   ]
  },
  {
   "cell_type": "markdown",
   "id": "a7ca6460",
   "metadata": {
    "editable": true,
    "slideshow": {
     "slide_type": "slide"
    },
    "tags": []
   },
   "source": [
    "### Three Targets For Simpler Programs\n",
    "\n",
    "1. <b>Make software easier to understand by breaking it into pieces that can be understood separately</b>\n",
    "\n",
    "    Make it easier to collaborate with others by making your code understandable OR make it easier for yourself when you ultimately need to revisit your code after six months, a year, or more working on a different project."
   ]
  },
  {
   "cell_type": "markdown",
   "id": "a1a89c31-47e2-4be2-a4eb-a258b5bddf3c",
   "metadata": {
    "editable": true,
    "slideshow": {
     "slide_type": "slide"
    },
    "tags": []
   },
   "source": [
    "### Three Targets For Simpler Programs\n",
    "\n",
    "1. Make software easier to understand by breaking it into pieces that can be understood separately\n",
    "\n",
    "2. Enable the ability to maintain, reuse and extend software (or bits of software)"
   ]
  },
  {
   "cell_type": "markdown",
   "id": "c020a8cd",
   "metadata": {
    "editable": true,
    "slideshow": {
     "slide_type": "slide"
    },
    "tags": []
   },
   "source": [
    "### Three Targets For Simpler Programs\n",
    "\n",
    "1. Make software easier to understand by breaking it into pieces that can be understood separately\n",
    "\n",
    "2. <b>Enable the ability to maintain, reuse and extend software (or bits of software)</b>\n",
    "\n",
    "    By breaking software into pieces that can be understood and operate independently, we hope they are not only easier to maintain, but portable from project to project. If your research continues to build off prior work, why doesn't your code?"
   ]
  },
  {
   "cell_type": "markdown",
   "id": "99e9819c-dbf8-4b37-aff5-18274bf68c81",
   "metadata": {
    "editable": true,
    "slideshow": {
     "slide_type": "slide"
    },
    "tags": []
   },
   "source": [
    "### Three Targets For Simpler Programs\n",
    "\n",
    "1. Make software easier to understand by breaking it into pieces that can be understood separately\n",
    "\n",
    "2. Enable the ability to maintain, reuse and extend software (or bits of software)\n",
    "\n",
    "3. Avoid extra work from lack of forethought towards methods of engagement with software\n"
   ]
  },
  {
   "cell_type": "markdown",
   "id": "f0356117-623b-40fe-bea3-12b46dbe7b81",
   "metadata": {
    "editable": true,
    "slideshow": {
     "slide_type": "slide"
    },
    "tags": []
   },
   "source": [
    "### Three Targets For Simpler Programs\n",
    "\n",
    "1. Make software easier to understand by breaking it into pieces that can be understood separately\n",
    "\n",
    "2. Enable the ability to maintain, reuse and extend software (or bits of software)\n",
    "\n",
    "3. <b>Avoid extra work from lack of forethought towards methods of engagement with software</b>\n",
    "\n",
    "    Less work good 👍👍\n"
   ]
  },
  {
   "cell_type": "markdown",
   "id": "9ecc75a1-3d20-4c7e-9e05-7f70f5008c4b",
   "metadata": {
    "editable": true,
    "slideshow": {
     "slide_type": "slide"
    },
    "tags": []
   },
   "source": [
    "## Core Ideas"
   ]
  },
  {
   "cell_type": "markdown",
   "id": "f2d7727a-6823-458b-90e3-6fd5dd1042bb",
   "metadata": {
    "editable": true,
    "slideshow": {
     "slide_type": "slide"
    },
    "tags": []
   },
   "source": [
    "### Core Ideas\n",
    "\n",
    "1. **Decomposable** – can be broken down into modules to reduce complexity and allow teamwork<br><br>"
   ]
  },
  {
   "cell_type": "markdown",
   "id": "f5ec9f5d-e5bc-4174-bfcc-7839a78b8927",
   "metadata": {
    "editable": true,
    "slideshow": {
     "slide_type": "slide"
    },
    "tags": []
   },
   "source": [
    "### Core Ideas\n",
    "\n",
    "1. **Decomposable** – can be broken down into modules to reduce complexity and allow teamwork<br><br>\n",
    "2. **Composable** – enable code to be reused in many places<br><br>"
   ]
  },
  {
   "cell_type": "markdown",
   "id": "f6a1a72b-64bb-4316-985d-958b0fef0895",
   "metadata": {
    "editable": true,
    "slideshow": {
     "slide_type": "slide"
    },
    "tags": []
   },
   "source": [
    "### Core Ideas\n",
    "\n",
    "1. **Decomposable** – can be broken down into modules to reduce complexity and allow teamwork<br><br>\n",
    "2. **Composable** – enable code to be reused in many places<br><br>\n",
    "3. **Understandable** – one module can be examined, reasoned about, developed, etc. in isolation<br><br>"
   ]
  },
  {
   "cell_type": "markdown",
   "id": "73b61b10-bd25-456c-af8e-f95285770108",
   "metadata": {
    "editable": true,
    "slideshow": {
     "slide_type": "slide"
    },
    "tags": []
   },
   "source": [
    "### Core Ideas\n",
    "\n",
    "1. **Decomposable** – can be broken down into modules to reduce complexity and allow teamwork<br><br>\n",
    "2. **Composable** – enable code to be reused in many places<br><br>\n",
    "3. **Understandable** – one module can be examined, reasoned about, developed, etc. in isolation<br><br>\n",
    "4. **Continuity** – a small change in the requirements should affect a small number of modules<br><br>"
   ]
  },
  {
   "cell_type": "markdown",
   "id": "91dfb8c3-db0a-415d-9839-9be888959737",
   "metadata": {
    "editable": true,
    "slideshow": {
     "slide_type": "slide"
    },
    "tags": []
   },
   "source": [
    "### Core Ideas\n",
    "\n",
    "1. **Decomposable** – can be broken down into modules to reduce complexity and allow teamwork<br><br>\n",
    "2. **Composable** – enable code to be reused in many places<br><br>\n",
    "3. **Understandable** – one module can be examined, reasoned about, developed, etc. in isolation<br><br>\n",
    "4. **Continuity** – a small change in the requirements should affect a small number of modules<br><br>\n",
    "5. **Isolation** – an error in one module should be as contained as possible<br><br>"
   ]
  },
  {
   "cell_type": "markdown",
   "id": "65e0c4ea-6fd9-4134-b8e8-4ba9e9ea65c3",
   "metadata": {
    "editable": true,
    "slideshow": {
     "slide_type": "slide"
    },
    "tags": []
   },
   "source": [
    "### Core Ideas\n",
    "\n",
    "#### Cohesion – internal consistency\n",
    "\n",
    "Generally, we want to break down our code into smaller pieces but we should have consistency in design and pattern across all of those pieces.\n",
    "\n",
    "For example, how you handle errors, how you name variables, how you process data, etc. Changing your coding style from function to function can make it harder to understand and maintain your code."
   ]
  },
  {
   "cell_type": "markdown",
   "id": "08335ff1-e2c0-4d4b-9800-026aa9c72014",
   "metadata": {
    "editable": true,
    "slideshow": {
     "slide_type": "slide"
    },
    "tags": []
   },
   "source": [
    "### Well designed software should try to minimize the mental effort required to reason about it.<br><br>If there are too complex of functions, break them out to think about and develop one at a time."
   ]
  },
  {
   "cell_type": "markdown",
   "id": "7ba5ae5c-b9d1-4c78-8c15-cde4ed231142",
   "metadata": {
    "editable": true,
    "slideshow": {
     "slide_type": "slide"
    },
    "tags": []
   },
   "source": [
    "## Basic Application"
   ]
  },
  {
   "cell_type": "markdown",
   "id": "45e07fa1-4401-4b86-a511-32ed5226e1d6",
   "metadata": {
    "editable": true,
    "slideshow": {
     "slide_type": "slide"
    },
    "tags": []
   },
   "source": [
    "### Basic Application\n",
    "\n",
    "You want to write a program to gather data from a number of sources (databases, web sites, etc.), all of this data has similar structure but may have slightly different formats.\n",
    "\n",
    "Following our \"separate code into small pieces\" idea, our first thought might be to write a single function that can gather data from any our sources -- at the very least, you have separated out the data gathering from the data processing."
   ]
  },
  {
   "cell_type": "markdown",
   "id": "38cab38a",
   "metadata": {
    "editable": true,
    "slideshow": {
     "slide_type": "slide"
    },
    "tags": []
   },
   "source": [
    "### Basic Application\n",
    "\n",
    "A single function separated out is already an improvement! But, if you have many sources of data, you may want to define and structure your code in a way that makes it easy to add new sources of data. In Python, one way to do this is via \"AbstractBaseClasses\" (ABCs)."
   ]
  },
  {
   "cell_type": "markdown",
   "id": "7b777191",
   "metadata": {
    "editable": true,
    "slideshow": {
     "slide_type": "slide"
    },
    "tags": []
   },
   "source": [
    "### Basic Application\n",
    "\n",
    "Lets start with a toy example where you want to pull price data for a number of items from a number of sellers."
   ]
  },
  {
   "cell_type": "code",
   "execution_count": 2,
   "id": "f5367c6c",
   "metadata": {
    "editable": true,
    "slideshow": {
     "slide_type": ""
    },
    "tags": []
   },
   "outputs": [],
   "source": [
    "from abc import ABC, abstractmethod\n",
    "\n",
    "import pandas as pd\n",
    "\n",
    "\n",
    "class DataSource(ABC):\n",
    "    @abstractmethod\n",
    "    def pull_data(self) -> pd.DataFrame:\n",
    "        pass\n",
    "\n",
    "    @staticmethod\n",
    "    def validate_data(data: pd.DataFrame) -> None:\n",
    "        # Check that all the columns we need are present\n",
    "        if any(\n",
    "            feature not in data.columns\n",
    "            for feature in [\"name\", \"description\", \"price\", \"category\"]\n",
    "        ):\n",
    "            raise ValueError(\"The dataset does not contain all the necessary columns\")\n",
    "\n",
    "        # Check that the price is non-negative\n",
    "        if (data[\"price\"] < 0).any():\n",
    "            raise ValueError(\"The price cannot be negative\")\n",
    "\n",
    "        # etc. etc."
   ]
  },
  {
   "cell_type": "code",
   "execution_count": 3,
   "id": "56484e22",
   "metadata": {
    "editable": true,
    "slideshow": {
     "slide_type": "slide"
    },
    "tags": []
   },
   "outputs": [],
   "source": [
    "class AmazonDataSource(DataSource):\n",
    "    def pull_data(self) -> pd.DataFrame:\n",
    "        # You likely going to pull data from their API or service\n",
    "        # keep that contained here\n",
    "        # ...\n",
    "        # before you return the data, validate it\n",
    "        DataSource.validate_data(data)\n",
    "        return data\n",
    "\n",
    "\n",
    "class TargetDataSource(DataSource):\n",
    "    def pull_data(self) -> pd.DataFrame:\n",
    "        # You likely going to pull data from their API or service\n",
    "        # keep that contained here\n",
    "        # ...\n",
    "        # before you return the data, validate it\n",
    "        DataSource.validate_data(data)\n",
    "        return data"
   ]
  },
  {
   "cell_type": "markdown",
   "id": "317ca2e5",
   "metadata": {
    "editable": true,
    "slideshow": {
     "slide_type": "slide"
    },
    "tags": []
   },
   "source": [
    "### Basic Application\n",
    "\n",
    "Abstract Base Classes `ABC`s are great! They allow you to define a common interface for a group of classes. As well as enforce that the classes that inherit from the `ABC` implement the methods you define.\n",
    "\n",
    "As with `validate_data` you can also attach utility functions that each sub-class may want to use to keep everything together.\n",
    "\n",
    "But, there are lots of other ways to structure code and other design patterns."
   ]
  },
  {
   "cell_type": "markdown",
   "id": "551e3530-b3a4-4e70-a97b-1367e0ae9187",
   "metadata": {
    "editable": true,
    "slideshow": {
     "slide_type": "slide"
    },
    "tags": []
   },
   "source": [
    "## Common Patterns"
   ]
  },
  {
   "cell_type": "markdown",
   "id": "c55ce807-2ad2-46db-960e-88c53f2a01a9",
   "metadata": {
    "editable": true,
    "slideshow": {
     "slide_type": "slide"
    },
    "tags": []
   },
   "source": [
    "### Common Patterns\n",
    "\n",
    "For the next ten minutes, with a partner, look through:\n",
    "\n",
    "#### [https://github.com/faif/python-patterns](https://github.com/faif/python-patterns)\n",
    "\n",
    "Think about how any of these patterns might be useful to a problem you recently encountered.\n",
    "\n",
    "A first one to look at might be the `factory` which is very useful when trying to have a standard interface to create different objects or functions using a parameter.\n",
    "\n",
    "Ex: you are processing a bunch of different image file formats and you need to find the appropriate file reader for each\n",
    "\n",
    "---\n",
    "\n",
    "As you are doing this, make note of patterns you find interesting or particularly useful and why. Or take note of patterns you have never seen before."
   ]
  },
  {
   "cell_type": "markdown",
   "id": "e1e2bc66-8602-4d35-beb0-f1752e5145dc",
   "metadata": {
    "editable": true,
    "slideshow": {
     "slide_type": "slide"
    },
    "tags": []
   },
   "source": [
    "## Takeaways"
   ]
  },
  {
   "cell_type": "markdown",
   "id": "dc8112ed-4710-4a37-b762-5a16ace29065",
   "metadata": {
    "editable": true,
    "slideshow": {
     "slide_type": "slide"
    },
    "tags": []
   },
   "source": [
    "### Three Targets For Simpler Programs\n",
    "\n",
    "1. Make software easier to understand by breaking it into pieces that can be understood separately\n",
    "\n",
    "2. Enable the ability to maintain, reuse and extend software (or bits of software)\n",
    "\n",
    "3. Avoid extra work from lack of forethought towards methods of engagement with software"
   ]
  },
  {
   "cell_type": "markdown",
   "id": "090f781f-3ddd-41a2-8a24-9a28423296bd",
   "metadata": {
    "editable": true,
    "slideshow": {
     "slide_type": "slide"
    },
    "tags": []
   },
   "source": [
    "### Well designed software should try to minimize the mental effort required to reason about it.<br><br>If there are too complex of functions, break them out to think about and develop one at a time. If there is too much coupling between functions or modules, try to reduce coupling."
   ]
  },
  {
   "cell_type": "markdown",
   "id": "383dc5d7-4456-45c3-b8c8-219f9199c37b",
   "metadata": {
    "editable": true,
    "slideshow": {
     "slide_type": "slide"
    },
    "tags": []
   },
   "source": [
    "### Learn and apply coding patterns. There are many resources to look up common patterns.<br><br>A good way to learn them is to use the example code commonly given and change, add, or remove values and see what happens."
   ]
  },
  {
   "cell_type": "markdown",
   "id": "911971fc-bc93-4b1f-991f-25930a76247c",
   "metadata": {
    "editable": true,
    "slideshow": {
     "slide_type": "slide"
    },
    "tags": []
   },
   "source": [
    "## Credit\n",
    "\n",
    "Much of the content of this talk comes from:\n",
    "1. [UW CSE 331 Lecture 1](https://courses.cs.washington.edu/courses/cse331/20wi/lectures/lec01-intro.pdf)\n",
    "2. [Previous URSSI Winter School](https://docs.google.com/presentation/d/1eNpMYEyS2x92P2r94pWwykfHSS2KaRHxzRsRN85WFh0/edit#slide=id.p)\n",
    "3. [Software Design for Research Software](https://intersect-training.org/Design/)"
   ]
  }
 ],
 "metadata": {
  "kernelspec": {
   "display_name": "Python 3 (ipykernel)",
   "language": "python",
   "name": "python3"
  },
  "language_info": {
   "codemirror_mode": {
    "name": "ipython",
    "version": 3
   },
   "file_extension": ".py",
   "mimetype": "text/x-python",
   "name": "python",
   "nbconvert_exporter": "python",
   "pygments_lexer": "ipython3",
   "version": "3.11.9"
  }
 },
 "nbformat": 4,
 "nbformat_minor": 5
}
