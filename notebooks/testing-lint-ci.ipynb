{
 "cells": [
  {
   "cell_type": "markdown",
   "id": "bf039405-502b-4ab9-97ae-dcbaab80557c",
   "metadata": {
    "editable": true,
    "slideshow": {
     "slide_type": "slide"
    },
    "tags": []
   },
   "source": [
    "# Testing, Formatting, Linting, Type-Checking, and Continuous Integration"
   ]
  },
  {
   "cell_type": "markdown",
   "id": "3ed1196c-e670-4f9c-922d-54e8c3385306",
   "metadata": {
    "editable": true,
    "slideshow": {
     "slide_type": "slide"
    },
    "tags": []
   },
   "source": [
    "## Structure\n",
    "\n",
    "Talk a tiny bit about each topic, but the main focus is showing how to add each of these processes to your code and how they work.\n",
    "\n",
    "In between each section I will let everyone try to add the step we just discussed to their own code. If you run into issues or are confused, let us know. We can then answer that question for the whole group."
   ]
  },
  {
   "cell_type": "markdown",
   "id": "0d262f59-5c9e-431a-b9d5-c301c01bfcdf",
   "metadata": {
    "editable": true,
    "slideshow": {
     "slide_type": "slide"
    },
    "tags": []
   },
   "source": [
    "## Motivation ??\n",
    "\n",
    "⚠️ ⚠️ ANECDOTE ⚠️ ⚠️\n",
    "\n",
    "This is somewhat 'expected knowledge' for software devs but not typically for scientists. If you understand testing and continuous integration (CI) configuration well enough, it will increase your salary offers in industry.\n",
    "\n",
    "---\n",
    "\n",
    "Regardless of industry or academia, CI systems can be used for tons of different tasks including whole processing pipelines (for free***)\n",
    "\n",
    "_please don't abuse CI systems, i am trying to get a job at GitHub research and I don't want them to be angry at me_"
   ]
  },
  {
   "cell_type": "markdown",
   "id": "b4472d27-cd66-44c8-adbd-489fe7ddef57",
   "metadata": {
    "editable": true,
    "slideshow": {
     "slide_type": "slide"
    },
    "tags": []
   },
   "source": [
    "## Testing"
   ]
  },
  {
   "cell_type": "markdown",
   "id": "e895c5a7-e87e-412c-888e-a691bac7a3f3",
   "metadata": {
    "editable": true,
    "slideshow": {
     "slide_type": "slide"
    },
    "tags": []
   },
   "source": [
    "### Testing\n",
    "\n",
    "Testing consist in writing small functions that test:\n",
    "\n",
    "* whether small units of your code function as expected\n",
    "* whether these small units integrate well together\n",
    "* whether your code takes care of edge cases\n",
    "* whether your code's inputs and outputs are correctly treated\n",
    "\n",
    "Running your tests allow checking that new changes to the code base did not break anything in your code (at least what your are testing for!)."
   ]
  },
  {
   "cell_type": "markdown",
   "id": "0adc1cef-515b-4354-8259-aae7558d332a",
   "metadata": {
    "editable": true,
    "slideshow": {
     "slide_type": "slide"
    },
    "tags": []
   },
   "source": [
    "### Testing\n",
    "\n",
    "**As you write tests, you get to experience what it takes to use your library and this might lead you to refactor parts of your code; refactoring is an important part of a software life-cycle!**"
   ]
  },
  {
   "cell_type": "markdown",
   "id": "98c12208-0ed3-4779-b060-d39c287e8d3f",
   "metadata": {
    "editable": true,
    "slideshow": {
     "slide_type": "slide"
    },
    "tags": []
   },
   "source": [
    "### Testing\n",
    "\n",
    "How to write tests!\n",
    "\n",
    "[testing-pr on repo](https://github.com/evamaxfield/winter-school-lectures/pull/2)\n",
    "\n",
    "Eva reminder to set local branch to: `just-testing`"
   ]
  },
  {
   "cell_type": "markdown",
   "id": "de5676bb-21b0-4c4e-a80d-8085eac07427",
   "metadata": {
    "editable": true,
    "slideshow": {
     "slide_type": "slide"
    },
    "tags": []
   },
   "source": [
    "## Formatting"
   ]
  },
  {
   "cell_type": "markdown",
   "id": "933efb98-34e0-4b99-826b-5529beb4bea0",
   "metadata": {
    "editable": true,
    "slideshow": {
     "slide_type": "slide"
    },
    "tags": []
   },
   "source": [
    "### Formatting\n",
    "\n",
    "Formatting does two things:\n",
    "\n",
    "1. Stops all the arguments about: tabs vs spaces, new lines in the middle of operations, etc. NO MORE STUPID ARGUMENTS!"
   ]
  },
  {
   "cell_type": "markdown",
   "id": "868c9b25-37e8-4420-8b56-55220e320a0e",
   "metadata": {
    "editable": true,
    "slideshow": {
     "slide_type": "slide"
    },
    "tags": []
   },
   "source": [
    "### Formatting\n",
    "\n",
    "Formatting does two things:\n",
    "\n",
    "1. Stops all the arguments about: tabs vs spaces, line length, new lines in the middle of operations, etc. NO MORE STUPID ARGUMENTS!\n",
    "\n",
    "MORE IMPORTANTLY\n",
    "\n",
    "2. Keeps a consistent style across the whole project. Whether you wrote the code or someone else, it will look the same."
   ]
  },
  {
   "cell_type": "markdown",
   "id": "e6a4a929-54c5-45da-a4cc-b94463944552",
   "metadata": {
    "editable": true,
    "slideshow": {
     "slide_type": "slide"
    },
    "tags": []
   },
   "source": [
    "### Formatting\n",
    "\n",
    "How to format your code:\n",
    "\n",
    "[formatting-pr on repo](https://github.com/evamaxfield/winter-school-lectures/pull/3)\n",
    "\n",
    "Eva reminder to set local branch to: `just-formating`"
   ]
  },
  {
   "cell_type": "markdown",
   "id": "dbb1c035-08bd-40c8-b509-2d1a127baf4c",
   "metadata": {
    "editable": true,
    "slideshow": {
     "slide_type": "slide"
    },
    "tags": []
   },
   "source": [
    "## Linting"
   ]
  },
  {
   "cell_type": "markdown",
   "id": "62f76af1-a0b1-45d6-ac09-691a5ba1655d",
   "metadata": {
    "editable": true,
    "slideshow": {
     "slide_type": "slide"
    },
    "tags": []
   },
   "source": [
    "### Linting\n",
    "\n",
    "Formatting focuses on directly changing the code to some \"standard\" style. Linting looks for common problems in the code, common bugs for example.\n",
    "\n",
    "A nice example of the difference is that formatting won't change the following:\n",
    "\n",
    "```python\n",
    "from package_a import foo\n",
    "from package_b import bar\n",
    "from package_a import foo, baz\n",
    "```\n",
    "\n",
    "But linting should inform you (if not automatically fix) that `foo` from `package_a` is imported twice and a nicer import block should look like:\n",
    "\n",
    "```python\n",
    "from package_a import baz, foo  # alphabetical\n",
    "from package_b import bar\n",
    "```"
   ]
  },
  {
   "cell_type": "markdown",
   "id": "1b2db9b5-3ab5-4db6-9269-454cc366b082",
   "metadata": {
    "editable": true,
    "slideshow": {
     "slide_type": "slide"
    },
    "tags": []
   },
   "source": [
    "### Linting\n",
    "\n",
    "* It will also alert you of unused variables that you may have forgot to use or accidentially left from debugging etc.<br><br>\n",
    "* It will remind you about function and module documentation standards.<br><br>\n",
    "* It will help you fix code which is doing extra bits of work (i.e. accidental double looping / possible standard library replacements).\n",
    "\n",
    "I won't list all of the rules it checks against but there are [A LOT](https://docs.astral.sh/ruff/rules/)."
   ]
  },
  {
   "cell_type": "markdown",
   "id": "0835a9d4-1a78-44bb-8d10-5c8dc4a824ee",
   "metadata": {
    "editable": true,
    "slideshow": {
     "slide_type": "slide"
    },
    "tags": []
   },
   "source": [
    "### Linting\n",
    "\n",
    "How to lint your code:\n",
    "\n",
    "[linting-pr on repo](https://github.com/evamaxfield/winter-school-lectures/pull/4)\n",
    "\n",
    "Eva reminder to set local branch to  `just-linting`"
   ]
  },
  {
   "cell_type": "markdown",
   "id": "26c016a0-5bac-4d61-858b-d4f2d7740cf5",
   "metadata": {
    "editable": true,
    "slideshow": {
     "slide_type": "slide"
    },
    "tags": []
   },
   "source": [
    "## Type Checking"
   ]
  },
  {
   "cell_type": "markdown",
   "id": "c11f66c5-776f-46a2-b925-16c51059e550",
   "metadata": {
    "editable": true,
    "slideshow": {
     "slide_type": "slide"
    },
    "tags": []
   },
   "source": [
    "### Type Checking\n",
    "\n",
    "Type checking is the most thorough analysis of your code you can do before you even run it.\n",
    "\n",
    "Python added **optional** types in version 3.5. At first they were simply for analysis of the code prior to running to check for even more bugs and possible error cases but in the latest versions of Python, they are now being used to speed up your programs.\n",
    "\n",
    "They can be annoying to add and work with. Very annoying, because they are optional in the language so there is a lot of hacky ways they can be manipulated, but in my opinion they are entirely worth it."
   ]
  },
  {
   "cell_type": "markdown",
   "id": "a258e451-df79-4263-8c1f-f9da8f201aec",
   "metadata": {
    "editable": true,
    "slideshow": {
     "slide_type": "slide"
    },
    "tags": []
   },
   "source": [
    "### Type Checking\n",
    "\n",
    "Typing is handled by decorations in the code i.e."
   ]
  },
  {
   "cell_type": "code",
   "execution_count": 1,
   "id": "c38b28ba-75ec-413d-8b43-79a805ed4e72",
   "metadata": {},
   "outputs": [],
   "source": [
    "def example(a):\n",
    "    print(f\"Hello {a}\")\n",
    "\n",
    "def example_typed(a: str) -> None:\n",
    "    print(f\"Hello {a}\")"
   ]
  },
  {
   "cell_type": "markdown",
   "id": "51227671-9f14-4637-8cdf-f2e6e87978f8",
   "metadata": {
    "editable": true,
    "slideshow": {
     "slide_type": "slide"
    },
    "tags": []
   },
   "source": [
    "### Type Checking\n",
    "\n",
    "And they can get complicated..."
   ]
  },
  {
   "cell_type": "code",
   "execution_count": 13,
   "id": "51d09bd2-22cf-4b81-894a-f34c1e5d71dd",
   "metadata": {},
   "outputs": [
    {
     "name": "stdout",
     "output_type": "stream",
     "text": [
      "('python why did you add this', 'python why did you add this', 'python why did you add this')\n"
     ]
    }
   ],
   "source": [
    "import random\n",
    "\n",
    "# yay only a single value\n",
    "var_int: int = 5\n",
    "var_float: float = 0.5\n",
    "var_bool: bool = False\n",
    "var_string: str = \"wow!\"\n",
    "\n",
    "# oh no multiple values\n",
    "list_of_strings: list[str] = [\"hello\", \"world\"]\n",
    "list_of_mixed: list[str | int | bool] = [\"hello\", 3, True]\n",
    "\n",
    "# lists don't have any constraints on size but tuples do\n",
    "tuple_of_two_values: tuple[str, int] = (\"number\", 10)\n",
    "tuple_of_n_values: tuple[str, ...] = tuple([\"python why did you add this\" for i in range(random.randint(1, 5))])\n",
    "print(tuple_of_n_values)\n",
    "\n",
    "# sub-objects\n",
    "dict_of_dicts: dict[str, dict[str, str | int]] = {\n",
    "    \"eva\": {\"name\": \"eva maxfield brown\", \"age\": 28},\n",
    "    \"bob\": {\"name\": \"Bob Boberson\"},\n",
    "}"
   ]
  },
  {
   "cell_type": "markdown",
   "id": "a92a96c0-1f03-49b9-a983-81b6b7865730",
   "metadata": {
    "editable": true,
    "slideshow": {
     "slide_type": "slide"
    },
    "tags": []
   },
   "source": [
    "## Type Checking\n",
    "\n",
    "An example with our favourite pattern, the factory:"
   ]
  },
  {
   "cell_type": "code",
   "execution_count": null,
   "id": "e32c884f-1cef-4db8-ac9b-c568f2af07d4",
   "metadata": {},
   "outputs": [],
   "source": [
    "from abc import ABC, abstractmethod\n",
    "from typing import Type\n",
    "\n",
    "class Localizer(ABC):\n",
    "\n",
    "    @abstractmethod\n",
    "    def localize(self, text: str) -> str:\n",
    "        raise NotImplementedError()\n",
    "\n",
    "class EnglishLocalizer(Localizer):\n",
    "\n",
    "    def localize(self, text: str) -> str:\n",
    "        return \"Hello world\"\n",
    "\n",
    "localizers = {\n",
    "    \"en\": EnglishLocalizer,\n",
    "}\n",
    "\n",
    "def get_localizer_not_initialized(lang: str) -> Type[Localizer]:\n",
    "    return localizers[lang]\n",
    "\n",
    "def get_localizer_initialized(lang: str) -> Localizer:\n",
    "    return localizers[lang]()"
   ]
  },
  {
   "cell_type": "markdown",
   "id": "640eca53-2561-4f0b-bd30-574d084f48e4",
   "metadata": {
    "editable": true,
    "slideshow": {
     "slide_type": "slide"
    },
    "tags": []
   },
   "source": [
    "### Type Checking\n",
    "\n",
    "Some tips / don't worry too much..."
   ]
  },
  {
   "cell_type": "code",
   "execution_count": 15,
   "id": "ccedaf32-469b-4b53-9249-f31c57cd3a1c",
   "metadata": {},
   "outputs": [
    {
     "data": {
      "text/plain": [
       "PersonDetails(name='Eva Maxfield Brown', age=28)"
      ]
     },
     "execution_count": 15,
     "metadata": {},
     "output_type": "execute_result"
    }
   ],
   "source": [
    "import numpy as np\n",
    "from dataclasses import dataclass\n",
    "\n",
    "# numpy has types, pandas has types, etc.\n",
    "var_array: np.ndarray = np.random.random((3, 2))\n",
    "\n",
    "# list of dict of list etc etc can get hard...\n",
    "# instead of...\n",
    "dict_of_dicts: dict[str, dict[str, str | int]] = {\n",
    "    \"eva\": {\"name\": \"eva maxfield brown\", \"age\": 28},\n",
    "    \"bob\": {\"name\": \"Bob Boberson\"},\n",
    "}\n",
    "\n",
    "# use `dataclass`\n",
    "@dataclass\n",
    "class PersonDetails:\n",
    "    name: str\n",
    "    age: int | None = None\n",
    "\n",
    "# easier to follow typing because sub-objects are separately defined\n",
    "dict_of_person_details: dict[str, PersonDetails] = {\n",
    "    \"eva\": PersonDetails(name=\"Eva Maxfield Brown\", age=28),\n",
    "    \"bob\": PersonDetails(name=\"Bob Boberson\")\n",
    "}\n",
    "dict_of_person_details[\"eva\"]"
   ]
  },
  {
   "cell_type": "markdown",
   "id": "a937b669-8688-4752-bb83-b126e0520224",
   "metadata": {
    "editable": true,
    "slideshow": {
     "slide_type": "slide"
    },
    "tags": []
   },
   "source": [
    "### Type Checking\n",
    "\n",
    "It is hard to learn but do practice using it. It will make writing code easier the more you do it as it will check a lot of assumptions for you.\n",
    "\n",
    "Some resources to continue learning / lookup in the future:\n",
    "\n",
    "* [standard library docs](https://docs.python.org/3.11/library/typing.html)\n",
    "* [typing cheatsheet from mypy](https://mypy.readthedocs.io/en/stable/cheat_sheet_py3.html)"
   ]
  },
  {
   "cell_type": "markdown",
   "id": "1a57320c-15de-4c87-9acb-c894c8bb4e3c",
   "metadata": {
    "editable": true,
    "slideshow": {
     "slide_type": "slide"
    },
    "tags": []
   },
   "source": [
    "### Type Checking\n",
    "\n",
    "How to type check your code:\n",
    "\n",
    "[type-checking-pr on repo](https://github.com/evamaxfield/winter-school-lectures/pull/5)\n",
    "\n",
    "Eva reminder to set local branch to `just-type-checking`"
   ]
  },
  {
   "cell_type": "markdown",
   "id": "521654bc-1c15-45f5-8881-02526bf36f7b",
   "metadata": {
    "editable": true,
    "slideshow": {
     "slide_type": "slide"
    },
    "tags": []
   },
   "source": [
    "## Continuous Integration"
   ]
  },
  {
   "cell_type": "markdown",
   "id": "a8692e02-0a66-4dde-aa73-55fd04212ec4",
   "metadata": {
    "editable": true,
    "slideshow": {
     "slide_type": "slide"
    },
    "tags": []
   },
   "source": [
    "### Continuous Integration\n",
    "\n",
    "Continuous Integration (CI) is meant to reduce or remove bugs entering code over time. Whether the code base is changing (new features, bug fixes, etc.) or upstream dependencies are changing (new releases).\n",
    "\n",
    "The main idea is that by checking your tests, formatting, linting, and types for each commit / PR you we know that nothing is breaking.\n",
    "\n",
    "If something does break, you know the exact commit / PR which broke something."
   ]
  },
  {
   "cell_type": "markdown",
   "id": "ea1fd300-ecea-4649-9fbe-3a0ab87ca345",
   "metadata": {
    "editable": true,
    "slideshow": {
     "slide_type": "slide"
    },
    "tags": []
   },
   "source": [
    "### Continuous Integration\n",
    "\n",
    "Further, it allows you to test on more machine setups than your own. For example, I have a MacOS laptop and a Linux desktop and I use Python 3.11 on both. But I have users who use Windows and Python 3.9.\n",
    "\n",
    "CI systems (GitHub Actions, GitLab CI/CD, Azure Pipelines, etc.) allow you to run the same suite of tests across all of these machines setups.\n",
    "\n",
    "Fortunately, once you have testing, formatting, linting, and type-checking setup locally, it is pretty easy to add CI to your repo!"
   ]
  },
  {
   "cell_type": "markdown",
   "id": "9575cfe7-f2fe-495f-9984-12581f0e4346",
   "metadata": {
    "editable": true,
    "slideshow": {
     "slide_type": "slide"
    },
    "tags": []
   },
   "source": [
    "### Continuous Integration\n",
    "\n",
    "How to add CI to your repo:\n",
    "\n",
    "[ci-pr on repo](https://github.com/evamaxfield/winter-school-lectures/pull/6)\n",
    "\n",
    "Eva reminder to set local branch to `just-ci`"
   ]
  },
  {
   "cell_type": "markdown",
   "id": "0ba2487f-d587-4487-b1cf-10a1dd7ca576",
   "metadata": {
    "editable": true,
    "slideshow": {
     "slide_type": "slide"
    },
    "tags": []
   },
   "source": [
    "## Everything At Once"
   ]
  },
  {
   "cell_type": "markdown",
   "id": "7cf26633-862d-40ed-b197-cbb6b9acf558",
   "metadata": {
    "editable": true,
    "slideshow": {
     "slide_type": "slide"
    },
    "tags": []
   },
   "source": [
    "### Everything At Once\n",
    "\n",
    "A pull request (PR) which has everything we just talked about together: https://github.com/evamaxfield/winter-school-lectures/pull/1"
   ]
  },
  {
   "cell_type": "markdown",
   "id": "f412af64-e690-458c-8c23-e2e355015bf5",
   "metadata": {
    "editable": true,
    "slideshow": {
     "slide_type": "slide"
    },
    "tags": []
   },
   "source": [
    "## Credit\n",
    "\n",
    "Much of the written content came directly from [https://pydev-guide.github.io/](https://pydev-guide.github.io/).\n",
    "\n",
    "It is still under development but some tutorials are already available. I highly recommend starring it / checking back to it every few months."
   ]
  }
 ],
 "metadata": {
  "kernelspec": {
   "display_name": "Python 3 (ipykernel)",
   "language": "python",
   "name": "python3"
  },
  "language_info": {
   "codemirror_mode": {
    "name": "ipython",
    "version": 3
   },
   "file_extension": ".py",
   "mimetype": "text/x-python",
   "name": "python",
   "nbconvert_exporter": "python",
   "pygments_lexer": "ipython3",
   "version": "3.11.5"
  }
 },
 "nbformat": 4,
 "nbformat_minor": 5
}
